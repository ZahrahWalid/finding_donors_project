{
 "cells": [
  {
   "cell_type": "markdown",
   "metadata": {},
   "source": [
    "## Supervised Learning\n",
    "## Project: Finding Donors for *CharityML*"
   ]
  },
  {
   "cell_type": "markdown",
   "metadata": {},
   "source": [
    "## Getting Started\n",
    "\n",
    "The dataset for this project originates from the [UCI Machine Learning Repository](https://archive.ics.uci.edu/ml/datasets/Census+Income). The datset was donated by Ron Kohavi and Barry Becker, after being published in the article _\"Scaling Up the Accuracy of Naive-Bayes Classifiers: A Decision-Tree Hybrid\"_. You can find the article by Ron Kohavi [online](https://www.aaai.org/Papers/KDD/1996/KDD96-033.pdf). The data we investigate here consists of small changes to the original dataset, such as removing the `'fnlwgt'` feature and records with missing or ill-formatted entries."
   ]
  },
  {
   "cell_type": "markdown",
   "metadata": {},
   "source": [
    "----\n",
    "## Exploring the Data\n",
   ]
  },
  {
   "cell_type": "code",
   "execution_count": 1,
   "metadata": {},
   "outputs": [
    {
     "data": {
      "text/html": [
       "<div>\n",
       "<style scoped>\n",
       "    .dataframe tbody tr th:only-of-type {\n",
       "        vertical-align: middle;\n",
       "    }\n",
       "\n",
       "    .dataframe tbody tr th {\n",
       "        vertical-align: top;\n",
       "    }\n",
       "\n",
       "    .dataframe thead th {\n",
       "        text-align: right;\n",
       "    }\n",
       "</style>\n",
       "<table border=\"1\" class=\"dataframe\">\n",
       "  <thead>\n",
       "    <tr style=\"text-align: right;\">\n",
       "      <th></th>\n",
       "      <th>age</th>\n",
       "      <th>workclass</th>\n",
       "      <th>education_level</th>\n",
       "      <th>education-num</th>\n",
       "      <th>marital-status</th>\n",
       "      <th>occupation</th>\n",
       "      <th>relationship</th>\n",
       "      <th>race</th>\n",
       "      <th>sex</th>\n",
       "      <th>capital-gain</th>\n",
       "      <th>capital-loss</th>\n",
       "      <th>hours-per-week</th>\n",
       "      <th>native-country</th>\n",
       "      <th>income</th>\n",
       "    </tr>\n",
       "  </thead>\n",
       "  <tbody>\n",
       "    <tr>\n",
       "      <th>0</th>\n",
       "      <td>39</td>\n",
       "      <td>State-gov</td>\n",
       "      <td>Bachelors</td>\n",
       "      <td>13.0</td>\n",
       "      <td>Never-married</td>\n",
       "      <td>Adm-clerical</td>\n",
       "      <td>Not-in-family</td>\n",
       "      <td>White</td>\n",
       "      <td>Male</td>\n",
       "      <td>2174.0</td>\n",
       "      <td>0.0</td>\n",
       "      <td>40.0</td>\n",
       "      <td>United-States</td>\n",
       "      <td>&lt;=50K</td>\n",
       "    </tr>\n",
       "  </tbody>\n",
       "</table>\n",
       "</div>"
      ],
      "text/plain": [
       "   age   workclass education_level  education-num  marital-status  \\\n",
       "0   39   State-gov       Bachelors           13.0   Never-married   \n",
       "\n",
       "      occupation    relationship    race    sex  capital-gain  capital-loss  \\\n",
       "0   Adm-clerical   Not-in-family   White   Male        2174.0           0.0   \n",
       "\n",
       "   hours-per-week  native-country income  \n",
       "0            40.0   United-States  <=50K  "
      ]
     },
     "metadata": {},
     "output_type": "display_data"
    }
   ],
   "source": [
    "# Import libraries necessary for this project\n",
    "import numpy as np\n",
    "import pandas as pd\n",
    "from time import time\n",
    "from IPython.display import display # Allows the use of display() for DataFrames\n",
    "\n",
    "# Import supplementary visualization code visuals.py\n",
    "import visuals as vs\n",
    "\n",
    "# Pretty display for notebooks\n",
    "%matplotlib inline\n",
    "\n",
    "# Load the Census dataset\n",
    "data = pd.read_csv(\"census.csv\")\n",
    "\n",
    "# Success - Display the first record\n",
    "display(data.head(n=1))"
   ]
  },
  {
   "cell_type": "markdown",
   "metadata": {},
   "source": [
    "### Implementation: Data Exploration\n",
    "A cursory investigation of the dataset will determine how many individuals fit into either group, and will tell us about the percentage of these individuals making more than \\$50,000. In the code cell below, you will need to compute the following:\n",
    "- The total number of records, `'n_records'`\n",
    "- The number of individuals making more than \\$50,000 annually, `'n_greater_50k'`.\n",
    "- The number of individuals making at most \\$50,000 annually, `'n_at_most_50k'`.\n",
    "- The percentage of individuals making more than \\$50,000 annually, `'greater_percent'`.\n",
    "\n",
    "** HINT: ** You may need to look at the table above to understand how the `'income'` entries are formatted. "
   ]
  },
  {
   "cell_type": "code",
   "execution_count": 2,
   "metadata": {},
   "outputs": [
    {
     "name": "stdout",
     "output_type": "stream",
     "text": [
      "Total number of records: 45222\n",
      "Individuals making more than $50,000: income    11208\n",
      "dtype: int64\n",
      "Individuals making at most $50,000: income    34014\n",
      "dtype: int64\n",
      "Percentage of individuals making more than $50,000: income    24.784397\n",
      "dtype: float64%\n"
     ]
    }
   ],
   "source": [
    "# TODO: Total number of records\n",
    "n_records = len(data)\n",
    "\n",
    "# TODO: Number of records where individual's income is more than $50,000\n",
    "if_greater=data[[\"income\"]]==\">50K\"\n",
    "n_greater_50k = if_greater.sum()\n",
    "\n",
    "# TODO: Number of records where individual's income is at most $50,000\n",
    "n_at_most_50k = n_records-n_greater_50k\n",
    "\n",
    "# TODO: Percentage of individuals whose income is more than $50,000\n",
    "greater_percent = (n_greater_50k/n_records)*100\n",
    "\n",
    "# Print the results\n",
    "print(\"Total number of records: {}\".format(n_records))\n",
    "print(\"Individuals making more than $50,000: {}\".format(n_greater_50k))\n",
    "print(\"Individuals making at most $50,000: {}\".format(n_at_most_50k))\n",
    "print(\"Percentage of individuals making more than $50,000: {}%\".format(greater_percent))"
   ]
  },
  {
   "cell_type": "markdown",
   "metadata": {},
   "source": [
    "** Featureset Exploration **\n",
    "\n",
    "* **age**: continuous. \n",
    "* **workclass**: Private, Self-emp-not-inc, Self-emp-inc, Federal-gov, Local-gov, State-gov, Without-pay, Never-worked. \n",
    "* **education**: Bachelors, Some-college, 11th, HS-grad, Prof-school, Assoc-acdm, Assoc-voc, 9th, 7th-8th, 12th, Masters, 1st-4th, 10th, Doctorate, 5th-6th, Preschool. \n",
    "* **education-num**: continuous. \n",
    "* **marital-status**: Married-civ-spouse, Divorced, Never-married, Separated, Widowed, Married-spouse-absent, Married-AF-spouse. \n",
    "* **occupation**: Tech-support, Craft-repair, Other-service, Sales, Exec-managerial, Prof-specialty, Handlers-cleaners, Machine-op-inspct, Adm-clerical, Farming-fishing, Transport-moving, Priv-house-serv, Protective-serv, Armed-Forces. \n",
    "* **relationship**: Wife, Own-child, Husband, Not-in-family, Other-relative, Unmarried. \n",
    "* **race**: Black, White, Asian-Pac-Islander, Amer-Indian-Eskimo, Other. \n",
    "* **sex**: Female, Male. \n",
    "* **capital-gain**: continuous. \n",
    "* **capital-loss**: continuous. \n",
    "* **hours-per-week**: continuous. \n",
    "* **native-country**: United-States, Cambodia, England, Puerto-Rico, Canada, Germany, Outlying-US(Guam-USVI-etc), India, Japan, Greece, South, China, Cuba, Iran, Honduras, Philippines, Italy, Poland, Jamaica, Vietnam, Mexico, Portugal, Ireland, France, Dominican-Republic, Laos, Ecuador, Taiwan, Haiti, Columbia, Hungary, Guatemala, Nicaragua, Scotland, Thailand, Yugoslavia, El-Salvador, Trinadad&Tobago, Peru, Hong, Holand-Netherlands."
   ]
  },
  {
   "cell_type": "markdown",
   "metadata": {},
   "source": [
    "----\n",
    "## Preparing the Data\n",
    "Before data can be used as input for machine learning algorithms, it often must be cleaned, formatted, and restructured — this is typically known as **preprocessing**. Fortunately, for this dataset, there are no invalid or missing entries we must deal with, however, there are some qualities about certain features that must be adjusted. This preprocessing can help tremendously with the outcome and predictive power of nearly all learning algorithms."
   ]
  },
  {
   "cell_type": "markdown",
   "metadata": {},
   "source": [
    "### Transforming Skewed Continuous Features\n",
    "A dataset may sometimes contain at least one feature whose values tend to lie near a single number, but will also have a non-trivial number of vastly larger or smaller values than that single number.  Algorithms can be sensitive to such distributions of values and can underperform if the range is not properly normalized. With the census dataset two features fit this description: '`capital-gain'` and `'capital-loss'`. \n",
    "\n",
    "Run the code cell below to plot a histogram of these two features. Note the range of the values present and how they are distributed."
   ]
  },
  {
   "cell_type": "code",
   "execution_count": 3,
   "metadata": {},
   "outputs": [
    {
     "data": {
      "image/png": "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\n",
      "text/plain": [
       "<matplotlib.figure.Figure at 0x7f5efc0fcc88>"
      ]
     },
     "metadata": {
      "needs_background": "light"
     },
     "output_type": "display_data"
    }
   ],
   "source": [
    "# Split the data into features and target label\n",
    "income_raw = data['income']\n",
    "features_raw = data.drop('income', axis = 1)\n",
    "\n",
    "# Visualize skewed continuous features of original data\n",
    "vs.distribution(data)"
   ]
  },
  {
   "cell_type": "markdown",
   "metadata": {},
   "source": [
    "For highly-skewed feature distributions such as `'capital-gain'` and `'capital-loss'`, it is common practice to apply a <a href=\"https://en.wikipedia.org/wiki/Data_transformation_(statistics)\">logarithmic transformation</a> on the data so that the very large and very small values do not negatively affect the performance of a learning algorithm. Using a logarithmic transformation significantly reduces the range of values caused by outliers. Care must be taken when applying this transformation however: The logarithm of `0` is undefined, so we must translate the values by a small amount above `0` to apply the the logarithm successfully.\n",
    "\n",
    "Run the code cell below to perform a transformation on the data and visualize the results. Again, note the range of values and how they are distributed. "
   ]
  },
  {
   "cell_type": "code",
   "execution_count": 4,
   "metadata": {},
   "outputs": [
    {
     "data": {
      "image/png": "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\n",
      "text/plain": [
       "<matplotlib.figure.Figure at 0x7f5ee8474860>"
      ]
     },
     "metadata": {
      "needs_background": "light"
     },
     "output_type": "display_data"
    }
   ],
   "source": [
    "# Log-transform the skewed features\n",
    "skewed = ['capital-gain', 'capital-loss']\n",
    "features_log_transformed = pd.DataFrame(data = features_raw)\n",
    "features_log_transformed[skewed] = features_raw[skewed].apply(lambda x: np.log(x + 1))\n",
    "\n",
    "# Visualize the new log distributions\n",
    "vs.distribution(features_log_transformed, transformed = True)"
   ]
  },
  {
   "cell_type": "markdown",
   "metadata": {},
   "source": [
    "### Normalizing Numerical Features\n",
    "In addition to performing transformations on features that are highly skewed, it is often good practice to perform some type of scaling on numerical features. Applying a scaling to the data does not change the shape of each feature's distribution (such as `'capital-gain'` or `'capital-loss'` above); however, normalization ensures that each feature is treated equally when applying supervised learners. Note that once scaling is applied, observing the data in its raw form will no longer have the same original meaning, as exampled below.\n",
    "\n",
    "Run the code cell below to normalize each numerical feature. We will use [`sklearn.preprocessing.MinMaxScaler`](http://scikit-learn.org/stable/modules/generated/sklearn.preprocessing.MinMaxScaler.html) for this."
   ]
  },
  {
   "cell_type": "code",
   "execution_count": 5,
   "metadata": {},
   "outputs": [
    {
     "data": {
      "text/html": [
       "<div>\n",
       "<style scoped>\n",
       "    .dataframe tbody tr th:only-of-type {\n",
       "        vertical-align: middle;\n",
       "    }\n",
       "\n",
       "    .dataframe tbody tr th {\n",
       "        vertical-align: top;\n",
       "    }\n",
       "\n",
       "    .dataframe thead th {\n",
       "        text-align: right;\n",
       "    }\n",
       "</style>\n",
       "<table border=\"1\" class=\"dataframe\">\n",
       "  <thead>\n",
       "    <tr style=\"text-align: right;\">\n",
       "      <th></th>\n",
       "      <th>age</th>\n",
       "      <th>workclass</th>\n",
       "      <th>education_level</th>\n",
       "      <th>education-num</th>\n",
       "      <th>marital-status</th>\n",
       "      <th>occupation</th>\n",
       "      <th>relationship</th>\n",
       "      <th>race</th>\n",
       "      <th>sex</th>\n",
       "      <th>capital-gain</th>\n",
       "      <th>capital-loss</th>\n",
       "      <th>hours-per-week</th>\n",
       "      <th>native-country</th>\n",
       "    </tr>\n",
       "  </thead>\n",
       "  <tbody>\n",
       "    <tr>\n",
       "      <th>0</th>\n",
       "      <td>0.301370</td>\n",
       "      <td>State-gov</td>\n",
       "      <td>Bachelors</td>\n",
       "      <td>0.800000</td>\n",
       "      <td>Never-married</td>\n",
       "      <td>Adm-clerical</td>\n",
       "      <td>Not-in-family</td>\n",
       "      <td>White</td>\n",
       "      <td>Male</td>\n",
       "      <td>0.667492</td>\n",
       "      <td>0.0</td>\n",
       "      <td>0.397959</td>\n",
       "      <td>United-States</td>\n",
       "    </tr>\n",
       "    <tr>\n",
       "      <th>1</th>\n",
       "      <td>0.452055</td>\n",
       "      <td>Self-emp-not-inc</td>\n",
       "      <td>Bachelors</td>\n",
       "      <td>0.800000</td>\n",
       "      <td>Married-civ-spouse</td>\n",
       "      <td>Exec-managerial</td>\n",
       "      <td>Husband</td>\n",
       "      <td>White</td>\n",
       "      <td>Male</td>\n",
       "      <td>0.000000</td>\n",
       "      <td>0.0</td>\n",
       "      <td>0.122449</td>\n",
       "      <td>United-States</td>\n",
       "    </tr>\n",
       "    <tr>\n",
       "      <th>2</th>\n",
       "      <td>0.287671</td>\n",
       "      <td>Private</td>\n",
       "      <td>HS-grad</td>\n",
       "      <td>0.533333</td>\n",
       "      <td>Divorced</td>\n",
       "      <td>Handlers-cleaners</td>\n",
       "      <td>Not-in-family</td>\n",
       "      <td>White</td>\n",
       "      <td>Male</td>\n",
       "      <td>0.000000</td>\n",
       "      <td>0.0</td>\n",
       "      <td>0.397959</td>\n",
       "      <td>United-States</td>\n",
       "    </tr>\n",
       "    <tr>\n",
       "      <th>3</th>\n",
       "      <td>0.493151</td>\n",
       "      <td>Private</td>\n",
       "      <td>11th</td>\n",
       "      <td>0.400000</td>\n",
       "      <td>Married-civ-spouse</td>\n",
       "      <td>Handlers-cleaners</td>\n",
       "      <td>Husband</td>\n",
       "      <td>Black</td>\n",
       "      <td>Male</td>\n",
       "      <td>0.000000</td>\n",
       "      <td>0.0</td>\n",
       "      <td>0.397959</td>\n",
       "      <td>United-States</td>\n",
       "    </tr>\n",
       "    <tr>\n",
       "      <th>4</th>\n",
       "      <td>0.150685</td>\n",
       "      <td>Private</td>\n",
       "      <td>Bachelors</td>\n",
       "      <td>0.800000</td>\n",
       "      <td>Married-civ-spouse</td>\n",
       "      <td>Prof-specialty</td>\n",
       "      <td>Wife</td>\n",
       "      <td>Black</td>\n",
       "      <td>Female</td>\n",
       "      <td>0.000000</td>\n",
       "      <td>0.0</td>\n",
       "      <td>0.397959</td>\n",
       "      <td>Cuba</td>\n",
       "    </tr>\n",
       "  </tbody>\n",
       "</table>\n",
       "</div>"
      ],
      "text/plain": [
       "        age          workclass education_level  education-num  \\\n",
       "0  0.301370          State-gov       Bachelors       0.800000   \n",
       "1  0.452055   Self-emp-not-inc       Bachelors       0.800000   \n",
       "2  0.287671            Private         HS-grad       0.533333   \n",
       "3  0.493151            Private            11th       0.400000   \n",
       "4  0.150685            Private       Bachelors       0.800000   \n",
       "\n",
       "        marital-status          occupation    relationship    race      sex  \\\n",
       "0        Never-married        Adm-clerical   Not-in-family   White     Male   \n",
       "1   Married-civ-spouse     Exec-managerial         Husband   White     Male   \n",
       "2             Divorced   Handlers-cleaners   Not-in-family   White     Male   \n",
       "3   Married-civ-spouse   Handlers-cleaners         Husband   Black     Male   \n",
       "4   Married-civ-spouse      Prof-specialty            Wife   Black   Female   \n",
       "\n",
       "   capital-gain  capital-loss  hours-per-week  native-country  \n",
       "0      0.667492           0.0        0.397959   United-States  \n",
       "1      0.000000           0.0        0.122449   United-States  \n",
       "2      0.000000           0.0        0.397959   United-States  \n",
       "3      0.000000           0.0        0.397959   United-States  \n",
       "4      0.000000           0.0        0.397959            Cuba  "
      ]
     },
     "metadata": {},
     "output_type": "display_data"
    }
   ],
   "source": [
    "# Import sklearn.preprocessing.StandardScaler\n",
    "from sklearn.preprocessing import MinMaxScaler\n",
    "\n",
    "# Initialize a scaler, then apply it to the features\n",
    "scaler = MinMaxScaler() # default=(0, 1)\n",
    "numerical = ['age', 'education-num', 'capital-gain', 'capital-loss', 'hours-per-week']\n",
    "\n",
    "features_log_minmax_transform = pd.DataFrame(data = features_log_transformed)\n",
    "features_log_minmax_transform[numerical] = scaler.fit_transform(features_log_transformed[numerical])\n",
    "\n",
    "# Show an example of a record with scaling applied\n",
    "display(features_log_minmax_transform.head(n = 5))"
   ]
  },
  {
   "cell_type": "markdown",
   "metadata": {},
   "source": [
    "### Implementation: Data Preprocessing\n",
    "\n",
    "From the table in **Exploring the Data** above, we can see there are several features for each record that are non-numeric. Typically, learning algorithms expect input to be numeric, which requires that non-numeric features (called *categorical variables*) be converted. One popular way to convert categorical variables is by using the **one-hot encoding** scheme. One-hot encoding creates a _\"dummy\"_ variable for each possible category of each non-numeric feature. For example, assume `someFeature` has three possible entries: `A`, `B`, or `C`. We then encode this feature into `someFeature_A`, `someFeature_B` and `someFeature_C`.\n",
    "\n",
    "|   | someFeature |                    | someFeature_A | someFeature_B | someFeature_C |\n",
    "| :-: | :-: |                            | :-: | :-: | :-: |\n",
    "| 0 |  B  |  | 0 | 1 | 0 |\n",
    "| 1 |  C  | ----> one-hot encode ----> | 0 | 0 | 1 |\n",
    "| 2 |  A  |  | 1 | 0 | 0 |\n",
    "\n",
    "Additionally, as with the non-numeric features, we need to convert the non-numeric target label, `'income'` to numerical values for the learning algorithm to work. Since there are only two possible categories for this label (\"<=50K\" and \">50K\"), we can avoid using one-hot encoding and simply encode these two categories as `0` and `1`, respectively. In code cell below, you will need to implement the following:\n",
    " - Use [`pandas.get_dummies()`](http://pandas.pydata.org/pandas-docs/stable/generated/pandas.get_dummies.html?highlight=get_dummies#pandas.get_dummies) to perform one-hot encoding on the `'features_log_minmax_transform'` data.\n",
    " - Convert the target label `'income_raw'` to numerical entries.\n",
    "   - Set records with \"<=50K\" to `0` and records with \">50K\" to `1`."
   ]
  },
  {
   "cell_type": "code",
   "execution_count": 6,
   "metadata": {
    "scrolled": true
   },
   "outputs": [
    {
     "name": "stdout",
     "output_type": "stream",
     "text": [
      "       >50K\n",
      "0         0\n",
      "1         0\n",
      "2         0\n",
      "3         0\n",
      "4         0\n",
      "5         0\n",
      "6         0\n",
      "7         1\n",
      "8         1\n",
      "9         1\n",
      "10        1\n",
      "11        1\n",
      "12        0\n",
      "13        0\n",
      "14        0\n",
      "15        0\n",
      "16        0\n",
      "17        0\n",
      "18        1\n",
      "19        1\n",
      "20        0\n",
      "21        0\n",
      "22        0\n",
      "23        0\n",
      "24        1\n",
      "25        0\n",
      "26        0\n",
      "27        0\n",
      "28        0\n",
      "29        0\n",
      "...     ...\n",
      "45192     0\n",
      "45193     0\n",
      "45194     1\n",
      "45195     1\n",
      "45196     0\n",
      "45197     1\n",
      "45198     1\n",
      "45199     0\n",
      "45200     0\n",
      "45201     0\n",
      "45202     0\n",
      "45203     0\n",
      "45204     1\n",
      "45205     0\n",
      "45206     0\n",
      "45207     0\n",
      "45208     0\n",
      "45209     0\n",
      "45210     0\n",
      "45211     0\n",
      "45212     0\n",
      "45213     0\n",
      "45214     0\n",
      "45215     0\n",
      "45216     0\n",
      "45217     0\n",
      "45218     0\n",
      "45219     0\n",
      "45220     0\n",
      "45221     1\n",
      "\n",
      "[45222 rows x 1 columns]\n",
      "103 total features after one-hot encoding.\n"
     ]
    }
   ],
   "source": [
    "# TODO: One-hot encode the 'features_log_minmax_transform' data using pandas.get_dummies()\n",
    "features_final = pd.get_dummies(features_log_minmax_transform)\n",
    "\n",
    "# TODO: Encode the 'income_raw' data to numerical values\n",
    "income = pd.get_dummies(income_raw)[[\">50K\"]]\n",
    "print(income)\n",
    "\n",
    "# Print the number of features after one-hot encoding\n",
    "encoded = list(features_final.columns)\n",
    "print(\"{} total features after one-hot encoding.\".format(len(encoded)))\n",
    "\n",
    "# Uncomment the following line to see the encoded feature names\n",
    "#print (encoded)"
   ]
  },
  {
   "cell_type": "markdown",
   "metadata": {},
   "source": [
    "### Shuffle and Split Data\n",
    "Now all _categorical variables_ have been converted into numerical features, and all numerical features have been normalized. As always, we will now split the data (both features and their labels) into training and test sets. 80% of the data will be used for training and 20% for testing.\n",
    "\n",
    "Run the code cell below to perform this split."
   ]
  },
  {
   "cell_type": "code",
   "execution_count": 7,
   "metadata": {},
   "outputs": [
    {
     "name": "stdout",
     "output_type": "stream",
     "text": [
      "Training set has 36177 samples.\n",
      "Testing set has 9045 samples.\n"
     ]
    },
    {
     "name": "stderr",
     "output_type": "stream",
     "text": [
      "/opt/conda/lib/python3.6/site-packages/sklearn/cross_validation.py:41: DeprecationWarning: This module was deprecated in version 0.18 in favor of the model_selection module into which all the refactored classes and functions are moved. Also note that the interface of the new CV iterators are different from that of this module. This module will be removed in 0.20.\n",
      "  \"This module will be removed in 0.20.\", DeprecationWarning)\n"
     ]
    }
   ],
   "source": [
    "# Import train_test_split\n",
    "from sklearn.cross_validation import train_test_split\n",
    "\n",
    "# Split the 'features' and 'income' data into training and testing sets\n",
    "X_train, X_test, y_train, y_test = train_test_split(features_final, \n",
    "                                                    income, \n",
    "                                                    test_size = 0.2, \n",
    "                                                    random_state = 0)\n",
    "\n",
    "# Show the results of the split\n",
    "print(\"Training set has {} samples.\".format(X_train.shape[0]))\n",
    "print(\"Testing set has {} samples.\".format(X_test.shape[0]))"
   ]
  },
  {
   "cell_type": "markdown",
   "metadata": {},
   "source": [
    "*Note: this Workspace is running on `sklearn` v0.19. If you use the newer version (>=\"0.20\"), the `sklearn.cross_validation` has been replaced with `sklearn.model_selection`.*"
   ]
  },
  {
   "cell_type": "markdown",
   "metadata": {},
   "source": [
    "----\n",
    "## Evaluating Model Performance\n",
    "In this section, we will investigate four different algorithms, and determine which is best at modeling the data. Three of these algorithms will be supervised learners of your choice, and the fourth algorithm is known as a *naive predictor*."
   ]
  },
  {
   "cell_type": "markdown",
   "metadata": {},
   "source": [
    "### Metrics and the Naive Predictor\n",
    "*CharityML*, equipped with their research, knows individuals that make more than \\$50,000 are most likely to donate to their charity. Because of this, *CharityML* is particularly interested in predicting who makes more than \\$50,000 accurately. It would seem that using **accuracy** as a metric for evaluating a particular model's performace would be appropriate. Additionally, identifying someone that *does not* make more than \\$50,000 as someone who does would be detrimental to *CharityML*, since they are looking to find individuals willing to donate. Therefore, a model's ability to precisely predict those that make more than \\$50,000 is *more important* than the model's ability to **recall** those individuals. We can use **F-beta score** as a metric that considers both precision and recall:\n",
    "\n",
    "$$ F_{\\beta} = (1 + \\beta^2) \\cdot \\frac{precision \\cdot recall}{\\left( \\beta^2 \\cdot precision \\right) + recall} $$\n",
    "\n",
    "In particular, when $\\beta = 0.5$, more emphasis is placed on precision. This is called the **F$_{0.5}$ score** (or F-score for simplicity).\n",
    "\n",
    "Looking at the distribution of classes (those who make at most \\$50,000, and those who make more), it's clear most individuals do not make more than \\$50,000. This can greatly affect **accuracy**, since we could simply say *\"this person does not make more than \\$50,000\"* and generally be right, without ever looking at the data! Making such a statement would be called **naive**, since we have not considered any information to substantiate the claim. It is always important to consider the *naive prediction* for your data, to help establish a benchmark for whether a model is performing well. That been said, using that prediction would be pointless: If we predicted all people made less than \\$50,000, *CharityML* would identify no one as donors. \n",
    "\n",
    "\n",
    "#### Note: Recap of accuracy, precision, recall\n",
    "\n",
    "** Accuracy ** measures how often the classifier makes the correct prediction. It’s the ratio of the number of correct predictions to the total number of predictions (the number of test data points).\n",
    "\n",
    "** Precision ** tells us what proportion of messages we classified as spam, actually were spam.\n",
    "It is a ratio of true positives(words classified as spam, and which are actually spam) to all positives(all words classified as spam, irrespective of whether that was the correct classificatio), in other words it is the ratio of\n",
    "\n",
    "`[True Positives/(True Positives + False Positives)]`\n",
    "\n",
    "** Recall(sensitivity)** tells us what proportion of messages that actually were spam were classified by us as spam.\n",
    "It is a ratio of true positives(words classified as spam, and which are actually spam) to all the words that were actually spam, in other words it is the ratio of\n",
    "\n",
    "`[True Positives/(True Positives + False Negatives)]`\n",
    "\n",
    "For classification problems that are skewed in their classification distributions like in our case, for example if we had a 100 text messages and only 2 were spam and the rest 98 weren't, accuracy by itself is not a very good metric. We could classify 90 messages as not spam(including the 2 that were spam but we classify them as not spam, hence they would be false negatives) and 10 as spam(all 10 false positives) and still get a reasonably good accuracy score. For such cases, precision and recall come in very handy. These two metrics can be combined to get the F1 score, which is weighted average(harmonic mean) of the precision and recall scores. This score can range from 0 to 1, with 1 being the best possible F1 score(we take the harmonic mean as we are dealing with ratios)."
   ]
  },
  {
   "cell_type": "markdown",
   "metadata": {},
   "source": [
    "### Question 1 - Naive Predictor Performace\n",
    "* If we chose a model that always predicted an individual made more than $50,000, what would  that model's accuracy and F-score be on this dataset? You must use the code cell below and assign your results to `'accuracy'` and `'fscore'` to be used later.\n",
    "\n",
    "** Please note ** that the the purpose of generating a naive predictor is simply to show what a base model without any intelligence would look like. In the real world, ideally your base model would be either the results of a previous model or could be based on a research paper upon which you are looking to improve. When there is no benchmark model set, getting a result better than random choice is a place you could start from.\n",
    "\n",
    "** HINT: ** \n",
    "\n",
    "* When we have a model that always predicts '1' (i.e. the individual makes more than 50k) then our model will have no True Negatives(TN) or False Negatives(FN) as we are not making any negative('0' value) predictions. Therefore our Accuracy in this case becomes the same as our Precision(True Positives/(True Positives + False Positives)) as every prediction that we have made with value '1' that should have '0' becomes a False Positive; therefore our denominator in this case is the total number of records we have in total. \n",
    "* Our Recall score(True Positives/(True Positives + False Negatives)) in this setting becomes 1 as we have no False Negatives."
   ]
  },
  {
   "cell_type": "code",
   "execution_count": 8,
   "metadata": {},
   "outputs": [
    {
     "name": "stdout",
     "output_type": "stream",
     "text": [
      "Naive Predictor: [Accuracy score: 0.2478, F-score: 0.2917]\n"
     ]
    }
   ],
   "source": [
    "\n",
    "TP = int(np.sum(income)) # Counting the ones as this is the naive case. Note that 'income' is the 'income_raw' data \n",
    "#encoded to numerical values done in the data preprocessing step.\n",
    "FP = int(income.count() - TP) # Specific to the naive case\n",
    "\n",
    "TN = 0 # No predicted negatives in the naive case\n",
    "FN = 0 # No predicted negatives in the naive case\n",
    "\n",
    "# TODO: Calculate accuracy, precision and recall\n",
    "accuracy = TP/(TP + FP + TN + FN)\n",
    "recall = TP/(TP + FN)\n",
    "precision = TP/(TP + FP)\n",
    "\n",
    "# TODO: Calculate F-score using the formula above for beta = 0.5 and correct values for precision and recall.\n",
    "fscore = (1.25*precision*recall)/((0.25*precision)+recall)\n",
    "\n",
    "# Print the results \n",
    "print (\"Naive Predictor: [Accuracy score: {:.4f}, F-score: {:.4f}]\".format(accuracy, fscore))"
   ]
  },
  {
   "cell_type": "markdown",
   "metadata": {},
   "source": [
    "###  Supervised Learning Models\n",
    "**The following are some of the supervised learning models that are currently available in** [`scikit-learn`](http://scikit-learn.org/stable/supervised_learning.html) **that you may choose from:**\n",
    "- Gaussian Naive Bayes (GaussianNB)\n",
    "- Decision Trees\n",
    "- Ensemble Methods (Bagging, AdaBoost, Random Forest, Gradient Boosting)\n",
    "- K-Nearest Neighbors (KNeighbors)\n",
    "- Stochastic Gradient Descent Classifier (SGDC)\n",
    "- Support Vector Machines (SVM)\n",
    "- Logistic Regression"
   ]
  },
  {
   "cell_type": "markdown",
   "metadata": {},
   "source": [
    "### Question 2 - Model Application\n",
    "List three of the supervised learning models above that are appropriate for this problem that you will test on the census data. For each model chosen\n",
    "\n",
    "- Describe one real-world application in industry where the model can be applied. \n",
    "- What are the strengths of the model; when does it perform well?\n",
    "- What are the weaknesses of the model; when does it perform poorly?\n",
    "- What makes this model a good candidate for the problem, given what you know about the data?\n",
    "\n",
    "** HINT: **\n",
    "\n",
    "Structure your answer in the same format as above^, with 4 parts for each of the three models you pick. Please include references with your answer."
   ]
  },
  {
   "cell_type": "markdown",
   "metadata": {},
   "source": [
    "**Answer: **\n",
    "\n",
    "Decision Trees\n",
    "->Application: Products recommendations in online shopping.\n",
    "->Strength: able to handle both continuous and categorical variables.\n",
    "            ->Suitable in handling non-linear data sets effectively.\n",
    "->Weakness: Unstable: A slight change in the data can cause an enormous change.\n",
    "            ->Poor performance @ tasks with multi classes and a relatively small number of training examples.\n",
    "->For this problem: >hirarcal the features from the most useful feature to classify on to the least one (the data set contains some unnecessary features).\n",
    "                    >bi-classes only with a suitable number of training examples.\n",
    "                    >dataset is both continuous and categorical.\n",
    "\n",
    "Logistic Regression\n",
    "->Application: Revealed fraudulent credit card transactions.\n",
    "->Strength: It makes no assumptions about distributions of classes in feature space and provides the predictor's direction of the association.\n",
    "            ->linear data with binary classes.\n",
    "->Weakness: it assumes linearity between the dependent variable and the independent variables.\n",
    "            ->Poor performance @ Non-linear problems.\n",
    "->For this problem: >linearity between the dependent variable and the independent variables exists.\n",
    "                    >the dependent variable is binary.\n",
    "                    \n",
    "Stochastic Gradient Descent Classifier (SGDC)\n",
    "->Application: IoT applictions.\n",
    "->Strength: It is computationally fast as only one sample is processed at a time.\n",
    "            ->it converges faster for large data.\n",
    "->Weakness: The taken steps towards the minima are very noisy. This can often lean the gradient descent into other directions.\n",
    "            ->poor performane @ limited resources tasks as it computationally expensive.\n",
    "->For this problem: >relativly large data with only one minima.\n",
    "                    >reliable relationship between the output and each input variables."
   ]
  },
  {
   "cell_type": "markdown",
   "metadata": {},
   "source": [
    "### Implementation - Creating a Training and Predicting Pipeline\n",
    "To properly evaluate the performance of each model you've chosen, it's important that you create a training and predicting pipeline that allows you to quickly and effectively train models using various sizes of training data and perform predictions on the testing data. Your implementation here will be used in the following section.\n",
    "In the code block below, you will need to implement the following:\n",
    " - Import `fbeta_score` and `accuracy_score` from [`sklearn.metrics`](http://scikit-learn.org/stable/modules/classes.html#sklearn-metrics-metrics).\n",
    " - Fit the learner to the sampled training data and record the training time.\n",
    " - Perform predictions on the test data `X_test`, and also on the first 300 training points `X_train[:300]`.\n",
    "   - Record the total prediction time.\n",
    " - Calculate the accuracy score for both the training subset and testing set.\n",
    " - Calculate the F-score for both the training subset and testing set.\n",
    "   - Make sure that you set the `beta` parameter!"
   ]
  },
  {
   "cell_type": "code",
   "execution_count": 9,
   "metadata": {},
   "outputs": [],
   "source": [
    "# TODO: Import two metrics from sklearn - fbeta_score and accuracy_score\n",
    "from sklearn.metrics import fbeta_score, accuracy_score\n",
    "from time import time\n",
    "\n",
    "def train_predict(learner, sample_size, X_train, y_train, X_test, y_test): \n",
    "    ''''\n",
    "    inputs:\n",
    "       - learner: the learning algorithm to be trained and predicted on\n",
    "       - sample_size: the size of samples (number) to be drawn from training set\n",
    "       - X_train: features training set\n",
    "       - y_train: income training set\n",
    "       - X_test: features testing set\n",
    "       - y_test: income testing set\n",
    "    '''\n",
    "    \n",
    "    results = {}\n",
    "    \n",
    "    # TODO: Fit the learner to the training data using slicing with 'sample_size' using .fit(training_features[:], training_labels[:])\n",
    "    start = time() # Get start time\n",
    "    learner = learner.fit(X_train[:sample_size], y_train[:sample_size])\n",
    "    end = time() # Get end time\n",
    "   \n",
    "    \n",
    "    # TODO: Calculate the training time\n",
    "    results['train_time'] = end-start\n",
    "        \n",
    "    # TODO: Get the predictions on the test set(X_test),\n",
    "    #       then get predictions on the first 300 training samples(X_train) using .predict()\n",
    "    start = time() # Get start time\n",
    "    predictions_test = learner.predict(X_test)\n",
    "    predictions_train = learner.predict(X_train[:300])\n",
    "    end = time() # Get end time\n",
    "    \n",
    "    # TODO: Calculate the total prediction time\n",
    "    results['pred_time'] = end-start\n",
    "            \n",
    "    # TODO: Compute accuracy on the first 300 training samples which is y_train[:300]\n",
    "    results['acc_train'] = accuracy_score(y_train[:300],predictions_train)\n",
    "    #int(np.sum(predictions_train==y_train[:300]))/int(predictions_train.count())\n",
    "        \n",
    "    # TODO: Compute accuracy on test set using accuracy_score()\n",
    "    results['acc_test'] = accuracy_score(y_test,predictions_test)\n",
    "    #int(np.sum(predictions_test==y_test))/int(predictions_test.count())\n",
    "    \n",
    "    # TODO: Compute F-score on the the first 300 training samples using fbeta_score()\n",
    "    results['f_train'] = fbeta_score(y_train[:300], predictions_train,beta=0.5)\n",
    "        \n",
    "    # TODO: Compute F-score on the test set which is y_test\n",
    "    results['f_test'] = fbeta_score(y_test, predictions_test,beta=0.5)\n",
    "       \n",
    "    # Success\n",
    "    print(\"{} trained on {} samples.\".format(learner.__class__.__name__, sample_size))\n",
    "        \n",
    "    # Return the results\n",
    "    return results\n"
   ]
  },
  {
   "cell_type": "markdown",
   "metadata": {},
   "source": [
    "### Implementation: Initial Model Evaluation\n",
    "In the code cell, you will need to implement the following:\n",
    "- Import the three supervised learning models you've discussed in the previous section.\n",
    "- Initialize the three models and store them in `'clf_A'`, `'clf_B'`, and `'clf_C'`.\n",
    "  - Use a `'random_state'` for each model you use, if provided.\n",
    "  - **Note:** Use the default settings for each model — you will tune one specific model in a later section.\n",
    "- Calculate the number of records equal to 1%, 10%, and 100% of the training data.\n",
    "  - Store those values in `'samples_1'`, `'samples_10'`, and `'samples_100'` respectively.\n",
    "\n",
    "**Note:** Depending on which algorithms you chose, the following implementation may take some time to run!"
   ]
  },
  {
   "cell_type": "code",
   "execution_count": 10,
   "metadata": {},
   "outputs": [
    {
     "name": "stdout",
     "output_type": "stream",
     "text": [
      "DecisionTreeClassifier trained on 361 samples.\n",
      "DecisionTreeClassifier trained on 3617 samples.\n",
      "DecisionTreeClassifier trained on 36177 samples.\n",
      "LogisticRegression trained on 361 samples.\n",
      "LogisticRegression trained on 3617 samples.\n"
     ]
    },
    {
     "name": "stderr",
     "output_type": "stream",
     "text": [
      "/opt/conda/lib/python3.6/site-packages/sklearn/utils/validation.py:578: DataConversionWarning: A column-vector y was passed when a 1d array was expected. Please change the shape of y to (n_samples, ), for example using ravel().\n",
      "  y = column_or_1d(y, warn=True)\n"
     ]
    },
    {
     "name": "stdout",
     "output_type": "stream",
     "text": [
      "LogisticRegression trained on 36177 samples.\n",
      "SGDClassifier trained on 361 samples.\n",
      "SGDClassifier trained on 3617 samples.\n",
      "SGDClassifier trained on 36177 samples.\n"
     ]
    },
    {
     "name": "stderr",
     "output_type": "stream",
     "text": [
      "/opt/conda/lib/python3.6/site-packages/sklearn/linear_model/stochastic_gradient.py:128: FutureWarning: max_iter and tol parameters have been added in <class 'sklearn.linear_model.stochastic_gradient.SGDClassifier'> in 0.19. If both are left unset, they default to max_iter=5 and tol=None. If tol is not None, max_iter defaults to max_iter=1000. From 0.21, default max_iter will be 1000, and default tol will be 1e-3.\n",
      "  \"and default tol will be 1e-3.\" % type(self), FutureWarning)\n"
     ]
    },
    {
     "data": {
      "image/png": "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\n",
      "text/plain": [
       "<matplotlib.figure.Figure at 0x7f5ee7e85fd0>"
      ]
     },
     "metadata": {
      "needs_background": "light"
     },
     "output_type": "display_data"
    }
   ],
   "source": [
    "# TODO: Import the three supervised learning models from sklearn\n",
    "from sklearn.tree import DecisionTreeClassifier\n",
    "from sklearn.linear_model import LogisticRegression, SGDClassifier\n",
    "import random\n",
    "\n",
    "# TODO: Initialize the three models\n",
    "clf_A = DecisionTreeClassifier(random_state = 16)\n",
    "clf_B = LogisticRegression(random_state = 16)\n",
    "clf_C = SGDClassifier(random_state = 16)\n",
    "\n",
    "# TODO: Calculate the number of samples for 1%, 10%, and 100% of the training data\n",
    "# HINT: samples_100 is the entire training set i.e. len(y_train)\n",
    "# HINT: samples_10 is 10% of samples_100 (ensure to set the count of the values to be `int` and not `float`)\n",
    "# HINT: samples_1 is 1% of samples_100 (ensure to set the count of the values to be `int` and not `float`)\n",
    "samples_100 = len(X_train)\n",
    "samples_10 = int(0.1*len(X_train))\n",
    "samples_1 = int(0.01*len(X_train))\n",
    "\n",
    "# Collect results on the learners\n",
    "results = {}\n",
    "for clf in [clf_A, clf_B, clf_C]:\n",
    "    clf_name = clf.__class__.__name__\n",
    "    results[clf_name] = {}\n",
    "    for i, samples in enumerate([samples_1, samples_10, samples_100]):\n",
    "        results[clf_name][i] = \\\n",
    "        train_predict(clf, samples, X_train, y_train, X_test, y_test)\n",
    "\n",
    "# Run metrics visualization for the three supervised learning models chosen\n",
    "vs.evaluate(results, accuracy, fscore)"
   ]
  },
  {
   "cell_type": "markdown",
   "metadata": {},
   "source": [
    "----\n",
    "## Improving Results\n",
    "In this final section, you will choose from the three supervised learning models the *best* model to use on the student data. You will then perform a grid search optimization for the model over the entire training set (`X_train` and `y_train`) by tuning at least one parameter to improve upon the untuned model's F-score. "
   ]
  },
  {
   "cell_type": "markdown",
   "metadata": {},
   "source": [
    "### Question 3 - Choosing the Best Model\n",
    "\n",
    "* Based on the evaluation you performed earlier, in one to two paragraphs, explain to *CharityML* which of the three models you believe to be most appropriate for the task of identifying individuals that make more than \\$50,000. \n",
    "\n",
    "** HINT: ** \n",
    "Look at the graph at the bottom left from the cell above(the visualization created by `vs.evaluate(results, accuracy, fscore)`) and check the F score for the testing set when 100% of the training set is used. Which model has the highest score? Your answer should include discussion of the:\n",
    "* metrics - F score on the testing when 100% of the training data is used, \n",
    "* prediction/training time\n",
    "* the algorithm's suitability for the data."
   ]
  },
  {
   "cell_type": "markdown",
   "metadata": {},
   "source": [
    "**Answer: **\n",
    "I will choose Logistic Regression model. It performs appropriately on both: training and testing sets with respectively good prediction and training time for the different sample sets from the data. The data has only two classes, on which the Logistic Regression model works the best."
   ]
  },
  {
   "cell_type": "markdown",
   "metadata": {},
   "source": [
    "### Question 4 - Describing the Model in Layman's Terms\n",
    "\n",
    "* In one to two paragraphs, explain to *CharityML*, in layman's terms, how the final model chosen is supposed to work. Be sure that you are describing the major qualities of the model, such as how the model is trained and how the model makes a prediction. Avoid using advanced mathematical jargon, such as describing equations.\n",
    "\n",
    "** HINT: **\n",
    "\n",
    "When explaining your model, if using external resources please include all citations."
   ]
  },
  {
   "cell_type": "markdown",
   "metadata": {},
   "source": [
    "**Answer: **\n",
    "Logistic regression works best for binary classification. The model training finds the best line to separate the two data classes. The model classifies the input data by finding the probability of lying in either class, the class of probability higher than 50% is chosen as the target class. The probability of 50:50 means that the dependent parameter lies very close to or on the line of separation, in this case, the model developer can bias class to be chosen."
   ]
  },
  {
   "cell_type": "markdown",
   "metadata": {},
   "source": [
    "### Implementation: Model Tuning\n",
    "Fine tune the chosen model. Use grid search (`GridSearchCV`) with at least one important parameter tuned with at least 3 different values. You will need to use the entire training set for this. In the code cell below, you will need to implement the following:\n",
    "- Import [`sklearn.grid_search.GridSearchCV`](http://scikit-learn.org/0.17/modules/generated/sklearn.grid_search.GridSearchCV.html) and [`sklearn.metrics.make_scorer`](http://scikit-learn.org/stable/modules/generated/sklearn.metrics.make_scorer.html).\n",
    "- Initialize the classifier you've chosen and store it in `clf`.\n",
    " - Set a `random_state` if one is available to the same state you set before.\n",
    "- Create a dictionary of parameters you wish to tune for the chosen model.\n",
    " - Example: `parameters = {'parameter' : [list of values]}`.\n",
    " - **Note:** Avoid tuning the `max_features` parameter of your learner if that parameter is available!\n",
    "- Use `make_scorer` to create an `fbeta_score` scoring object (with $\\beta = 0.5$).\n",
    "- Perform grid search on the classifier `clf` using the `'scorer'`, and store it in `grid_obj`.\n",
    "- Fit the grid search object to the training data (`X_train`, `y_train`), and store it in `grid_fit`.\n",
    "\n",
    "**Note:** Depending on the algorithm chosen and the parameter list, the following implementation may take some time to run!"
   ]
  },
  {
   "cell_type": "code",
   "execution_count": 11,
   "metadata": {},
   "outputs": [
    {
     "name": "stdout",
     "output_type": "stream",
     "text": [
      "(36177,)\n",
      "Unoptimized model\n",
      "------\n",
      "Accuracy score on testing data: 0.8419\n",
      "F-score on testing data: 0.6832\n",
      "\n",
      "Optimized Model\n",
      "------\n",
      "Final accuracy score on the testing data: 0.8422\n",
      "Final F-score on the testing data: 0.6846\n"
     ]
    }
   ],
   "source": [
    "# TODO: Import 'GridSearchCV', 'make_scorer', and any other necessary libraries\n",
    "from sklearn.model_selection import GridSearchCV \n",
    "from sklearn.metrics import make_scorer\n",
    "import random\n",
    "\n",
    "# TODO: Initialize the classifier\n",
    "clf = LogisticRegression(random_state = 16)\n",
    "\n",
    "# TODO: Create the parameters list you wish to tune, using a dictionary if needed.\n",
    "# HINT: parameters = {'parameter_1': [value1, value2], 'parameter_2': [value1, value2]}\n",
    "parameters = {'C': [0.01, 0.1, 0.5, 0.9, 1.0, 5.0],'intercept_scaling' : [0.01, 1.0, 10, 20.0]}\n",
    "\n",
    "# TODO: Make an fbeta_score scoring object using make_scorer()\n",
    "scorer = make_scorer(fbeta_score, beta=0.5)\n",
    "\n",
    "# TODO: Perform grid search on the classifier using 'scorer' as the scoring method using GridSearchCV()\n",
    "grid_obj = GridSearchCV(estimator=clf, param_grid = parameters, scoring = scorer, n_jobs=-1)\n",
    "\n",
    "y_train=y_train.values.ravel() #comment this statment after the first run. In other words, if the y shape is (num, ) do not run this statement, otherwise run this line.\n",
    "print(y_train.shape)\n",
    "\n",
    "\n",
    "# TODO: Fit the grid search object to the training data and find the optimal parameters using fit()\n",
    "grid_fit = grid_obj.fit(X_train, y_train)\n",
    "\n",
    "# Get the estimator\n",
    "best_clf = grid_fit.best_estimator_\n",
    "\n",
    "# Make predictions using the unoptimized and model\n",
    "predictions = (clf.fit(X_train, y_train)).predict(X_test)\n",
    "best_predictions = best_clf.predict(X_test)\n",
    "\n",
    "# Report the before-and-afterscores\n",
    "print(\"Unoptimized model\\n------\")\n",
    "print(\"Accuracy score on testing data: {:.4f}\".format(accuracy_score(y_test, predictions)))\n",
    "print(\"F-score on testing data: {:.4f}\".format(fbeta_score(y_test, predictions, beta = 0.5)))\n",
    "print(\"\\nOptimized Model\\n------\")\n",
    "print(\"Final accuracy score on the testing data: {:.4f}\".format(accuracy_score(y_test, best_predictions)))\n",
    "print(\"Final F-score on the testing data: {:.4f}\".format(fbeta_score(y_test, best_predictions, beta = 0.5)))\n"
   ]
  },
  {
   "cell_type": "markdown",
   "metadata": {},
   "source": [
    "### Question 5 - Final Model Evaluation\n",
    "\n",
    "* What is your optimized model's accuracy and F-score on the testing data? \n",
    "* Are these scores better or worse than the unoptimized model? \n",
    "* How do the results from your optimized model compare to the naive predictor benchmarks you found earlier in **Question 1**?_  \n",
    "\n",
    "**Note:** Fill in the table below with your results, and then provide discussion in the **Answer** box."
   ]
  },
  {
   "cell_type": "markdown",
   "metadata": {},
   "source": [
    "#### Results:\n",
    "\n",
    "|     Metric     | Unoptimized Model | Optimized Model |\n",
    "| :------------: | :---------------: | :-------------: | \n",
    "| Accuracy Score |       0.8422      |      0.6846     |\n",
    "| F-score        |       0.8419      |      0.6832     |\n"
   ]
  },
  {
   "cell_type": "markdown",
   "metadata": {},
   "source": [
    "**Answer: **\n",
    "optimized model's accuracy and F-score on the testing data are 0.8422 and 0.6846 respectively. They are higher than both values of the unoptimized model (0.8419 and 0.6832 respectively). Naive Predictor's accuracy and F-score on the testing data are 0.2478 and  0.2917 respectively, the optimized model is much better for sure.\n"
   ]
  },
  {
   "cell_type": "markdown",
   "metadata": {},
   "source": [
    "----\n",
    "## Feature Importance\n",
    "\n",
    "An important task when performing supervised learning on a dataset like the census data we study here is determining which features provide the most predictive power. By focusing on the relationship between only a few crucial features and the target label we simplify our understanding of the phenomenon, which is most always a useful thing to do. In the case of this project, that means we wish to identify a small number of features that most strongly predict whether an individual makes at most or more than \\$50,000.\n",
    "\n",
    "Choose a scikit-learn classifier (e.g., adaboost, random forests) that has a `feature_importance_` attribute, which is a function that ranks the importance of features according to the chosen classifier.  In the next python cell fit this classifier to training set and use this attribute to determine the top 5 most important features for the census dataset."
   ]
  },
  {
   "cell_type": "markdown",
   "metadata": {},
   "source": [
    "### Question 6 - Feature Relevance Observation\n",
    "When **Exploring the Data**, it was shown there are thirteen available features for each individual on record in the census data. Of these thirteen records, which five features do you believe to be most important for prediction, and in what order would you rank them and why?"
   ]
  },
  {
   "cell_type": "markdown",
   "metadata": {},
   "source": [
    "**Answer:**\n",
    "my answer is based on: the higher salary the person earns, the more likely he/she donates.\n",
    "1- hours-per-week: the more the individual works, the higher salary he/she earns.\n",
    "2- eduction-num: the higher level the individual reaches, the better job he/she gets, the higher salary he/she earns.\n",
    "3- capital gain: the more capital gain, the more profit (overall salary) is earned.\n",
    "4- capital loss: the less capital loss, the more profit is earned.\n",
    "5- age: the older people work in higher positions with more salaries than the younger ones."
   ]
  },
  {
   "cell_type": "markdown",
   "metadata": {},
   "source": [
    "### Implementation - Extracting Feature Importance\n",
    "Choose a `scikit-learn` supervised learning algorithm that has a `feature_importance_` attribute availble for it. This attribute is a function that ranks the importance of each feature when making predictions based on the chosen algorithm.\n",
    "\n",
    "In the code cell below, you will need to implement the following:\n",
    " - Import a supervised learning model from sklearn if it is different from the three used earlier.\n",
    " - Train the supervised model on the entire training set.\n",
    " - Extract the feature importances using `'.feature_importances_'`."
   ]
  },
  {
   "cell_type": "code",
   "execution_count": 13,
   "metadata": {},
   "outputs": [
    {
     "data": {
      "image/png": "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\n",
      "text/plain": [
       "<matplotlib.figure.Figure at 0x7f5ee5131278>"
      ]
     },
     "metadata": {
      "needs_background": "light"
     },
     "output_type": "display_data"
    }
   ],
   "source": [
    "# TODO: Import a supervised learning model that has 'feature_importances_'\n",
    "from sklearn.ensemble import AdaBoostClassifier \n",
    "\n",
    "# TODO: Train the supervised model on the training set using .fit(X_train, y_train)\n",
    "model = AdaBoostClassifier(random_state = 16).fit(X_train, y_train)\n",
    "\n",
    "# TODO: Extract the feature importances using .feature_importances_ \n",
    "importances = model.feature_importances_\n",
    "\n",
    "# Plot\n",
    "vs.feature_plot(importances, X_train, y_train)"
   ]
  },
  {
   "cell_type": "markdown",
   "metadata": {},
   "source": [
    "### Question 7 - Extracting Feature Importance\n",
    "\n",
    "Observe the visualization created above which displays the five most relevant features for predicting if an individual makes at most or above \\$50,000.  \n",
    "* How do these five features compare to the five features you discussed in **Question 6**?\n",
    "* If you were close to the same answer, how does this visualization confirm your thoughts? \n",
    "* If you were not close, why do you think these features are more relevant?"
   ]
  },
  {
   "cell_type": "markdown",
   "metadata": {},
   "source": [
    "**Answer:**\n",
    "They are the same features but in different orders. My order was based on the higher salary the person earns, the more likely he/she donates; but this is not the case, there are too many perspectives to think about, like their awareness level (related to the education-num feature), the mentality of helping others (related to age feature)...etc. Note that the cumulative feature weight is slightly higher than 0.5 (the reduced feature model may operate with low performance)."
   ]
  },
  {
   "cell_type": "markdown",
   "metadata": {},
   "source": [
    "### Feature Selection\n",
    "How does a model perform if we only use a subset of all the available features in the data? With less features required to train, the expectation is that training and prediction time is much lower — at the cost of performance metrics. From the visualization above, we see that the top five most important features contribute more than half of the importance of **all** features present in the data. This hints that we can attempt to *reduce the feature space* and simplify the information required for the model to learn. The code cell below will use the same optimized model you found earlier, and train it on the same training set *with only the top five important features*. "
   ]
  },
  {
   "cell_type": "code",
   "execution_count": 14,
   "metadata": {},
   "outputs": [
    {
     "name": "stdout",
     "output_type": "stream",
     "text": [
      "Final Model trained on full data\n",
      "------\n",
      "Accuracy on testing data: 0.8422\n",
      "F-score on testing data: 0.6846\n",
      "\n",
      "Final Model trained on reduced data\n",
      "------\n",
      "Accuracy on testing data: 0.8052\n",
      "F-score on testing data: 0.5872\n"
     ]
    }
   ],
   "source": [
    "# Import functionality for cloning a model\n",
    "from sklearn.base import clone\n",
    "\n",
    "# Reduce the feature space\n",
    "X_train_reduced = X_train[X_train.columns.values[(np.argsort(importances)[::-1])[:5]]]\n",
    "X_test_reduced = X_test[X_test.columns.values[(np.argsort(importances)[::-1])[:5]]]\n",
    "\n",
    "# Train on the \"best\" model found from grid search earlier\n",
    "clf = (clone(best_clf)).fit(X_train_reduced, y_train)\n",
    "\n",
    "# Make new predictions\n",
    "reduced_predictions = clf.predict(X_test_reduced)\n",
    "\n",
    "# Report scores from the final model using both versions of data\n",
    "print(\"Final Model trained on full data\\n------\")\n",
    "print(\"Accuracy on testing data: {:.4f}\".format(accuracy_score(y_test, best_predictions)))\n",
    "print(\"F-score on testing data: {:.4f}\".format(fbeta_score(y_test, best_predictions, beta = 0.5)))\n",
    "print(\"\\nFinal Model trained on reduced data\\n------\")\n",
    "print(\"Accuracy on testing data: {:.4f}\".format(accuracy_score(y_test, reduced_predictions)))\n",
    "print(\"F-score on testing data: {:.4f}\".format(fbeta_score(y_test, reduced_predictions, beta = 0.5)))"
   ]
  },
  {
   "cell_type": "markdown",
   "metadata": {},
   "source": [
    "### Question 8 - Effects of Feature Selection\n",
    "\n",
    "* How does the final model's F-score and accuracy score on the reduced data using only five features compare to those same scores when all features are used?\n",
    "* If training time was a factor, would you consider using the reduced data as your training set?"
   ]
  },
  {
   "cell_type": "markdown",
   "metadata": {},
   "source": [
    "**Answer:**\n",
    "Final Model trained on full data: Accuracy on testing data: 0.8422, F-score on testing data: 0.6846\n",
    "\n",
    "Final Model trained on reduced data: Accuracy on testing data: 0.8056, F-score on testing data: 0.5885\n",
    "\n",
    "The full data model performed better than the reduced data model. \n",
    "I may use the reduced data as the training time will reduce (especially that the features cumulative weight is higher than 50%).\n"
   ]
  },
  {
   "cell_type": "markdown",
   "metadata": {},
   "source": [
    "> **Note**: Once you have completed all of the code implementations and successfully answered each question above, you may finalize your work by exporting the iPython Notebook as an HTML document. You can do this by using the menu above and navigating to  \n",
    "**File -> Download as -> HTML (.html)**. Include the finished document along with this notebook as your submission."
   ]
  },
  {
   "cell_type": "markdown",
   "metadata": {},
   "source": [
    "## Before You Submit\n",
    "You will also need run the following in order to convert the Jupyter notebook into HTML, so that your submission will include both files."
   ]
  },
  {
   "cell_type": "code",
   "execution_count": 15,
   "metadata": {},
   "outputs": [
    {
     "data": {
      "text/plain": [
       "['[NbConvertApp] Converting notebook finding_donors.ipynb to html',\n",
       " '[NbConvertApp] Writing 500082 bytes to finding_donors.html']"
      ]
     },
     "execution_count": 15,
     "metadata": {},
     "output_type": "execute_result"
    }
   ],
   "source": [
    "!!jupyter nbconvert *.ipynb"
   ]
  },
  {
   "cell_type": "code",
   "execution_count": null,
   "metadata": {},
   "outputs": [],
   "source": []
  }
 ],
 "metadata": {
  "kernelspec": {
   "display_name": "Python 3",
   "language": "python",
   "name": "python3"
  },
  "language_info": {
   "codemirror_mode": {
    "name": "ipython",
    "version": 3
   },
   "file_extension": ".py",
   "mimetype": "text/x-python",
   "name": "python",
   "nbconvert_exporter": "python",
   "pygments_lexer": "ipython3",
   "version": "3.6.3"
  }
 },
 "nbformat": 4,
 "nbformat_minor": 1
}
